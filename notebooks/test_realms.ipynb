{
 "cells": [
  {
   "cell_type": "code",
   "execution_count": 7,
   "id": "2a912890",
   "metadata": {},
   "outputs": [
    {
     "name": "stdout",
     "output_type": "stream",
     "text": [
      "Link do grupo: https://us.api.blizzard.com/data/wow/connected-realm/121?namespace=dynamic-us\n",
      "Link do grupo: https://us.api.blizzard.com/data/wow/connected-realm/127?namespace=dynamic-us\n",
      "Link do grupo: https://us.api.blizzard.com/data/wow/connected-realm/151?namespace=dynamic-us\n",
      "Link do grupo: https://us.api.blizzard.com/data/wow/connected-realm/115?namespace=dynamic-us\n",
      "Link do grupo: https://us.api.blizzard.com/data/wow/connected-realm/106?namespace=dynamic-us\n"
     ]
    }
   ],
   "source": [
    "import sys\n",
    "import os\n",
    "\n",
    "# Adiciona o caminho da pasta src para que o Python encontre o módulo\n",
    "sys.path.append(os.path.abspath(\"../src\"))\n",
    "\n",
    "from wow_api import get_access_token, listar_reinos\n",
    "\n",
    "token = get_access_token()\n",
    "reinos = listar_reinos(token)\n",
    "\n",
    "for grupo in reinos[:5]:\n",
    "    print(\"Link do grupo:\", grupo[\"href\"])"
   ]
  }
 ],
 "metadata": {
  "kernelspec": {
   "display_name": "Python 3",
   "language": "python",
   "name": "python3"
  },
  "language_info": {
   "codemirror_mode": {
    "name": "ipython",
    "version": 3
   },
   "file_extension": ".py",
   "mimetype": "text/x-python",
   "name": "python",
   "nbconvert_exporter": "python",
   "pygments_lexer": "ipython3",
   "version": "3.13.5"
  }
 },
 "nbformat": 4,
 "nbformat_minor": 5
}
