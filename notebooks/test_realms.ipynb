{
 "cells": [
  {
   "cell_type": "code",
   "execution_count": 9,
   "id": "0192678b",
   "metadata": {},
   "outputs": [
    {
     "name": "stdout",
     "output_type": "stream",
     "text": [
      "dict_keys(['_links', 'mounts'])\n"
     ]
    }
   ],
   "source": [
    "import sys\n",
    "import os\n",
    "import requests\n",
    "\n",
    "# Adiciona o caminho da pasta src para que o Python encontre o módulo\n",
    "sys.path.append(os.path.abspath(\"../src\"))\n",
    "\n",
    "from wow_api import get_access_token\n",
    "\n",
    "token = get_access_token()\n",
    "\n",
    "# 1. Obter índice de montarias\n",
    "mounts_index_url = \"https://us.api.blizzard.com/data/wow/mount/index\"\n",
    "params = {\"namespace\": \"static-us\", \"locale\": \"en_US\"}\n",
    "headers = {\"Authorization\": f\"Bearer {token}\"}\n",
    "response = requests.get(mounts_index_url, params=params, headers=headers)\n",
    "response.raise_for_status()\n",
    "mounts_index_data = response.json()\n",
    "\n",
    "print(mounts_index_data.keys())  # para inspecionar as chaves no JSON retornado\n",
    "# Saída esperada: dict_keys(['_links', 'mounts'])"
   ]
  },
  {
   "cell_type": "code",
   "execution_count": null,
   "id": "bdfec54a",
   "metadata": {},
   "outputs": [
    {
     "name": "stdout",
     "output_type": "stream",
     "text": [
      "[{'_links': {'self': {'href': 'https://us.api.blizzard.com/data/wow/mount/6?namespace=static-11.1.7_61131-us'}}, 'id': 6, 'name': 'Brown Horse', 'creature_displays': [{'key': {'href': 'https://us.api.blizzard.com/data/wow/media/creature-display/2404?namespace=static-11.1.7_61131-us'}, 'id': 2404}], 'description': \"A favorite among Stormwind's guards thanks to its patience and stamina.\", 'source': {'type': 'VENDOR', 'name': 'Vendor'}, 'faction': {'type': 'ALLIANCE', 'name': 'Alliance'}, 'requirements': {'faction': {'type': 'ALLIANCE', 'name': 'Alliance'}}}, {'_links': {'self': {'href': 'https://us.api.blizzard.com/data/wow/mount/7?namespace=static-11.1.7_61131-us'}}, 'id': 7, 'name': 'Gray Wolf', 'creature_displays': [{'key': {'href': 'https://us.api.blizzard.com/data/wow/media/creature-display/2320?namespace=static-11.1.7_61131-us'}, 'id': 2320}], 'description': 'This breed of wolf prefers hunting in the fog, relying on its smoky hide to camouflage it from unsuspecting prey.', 'source': {'type': 'VENDOR', 'name': 'Vendor'}, 'should_exclude_if_uncollected': True}, {'_links': {'self': {'href': 'https://us.api.blizzard.com/data/wow/mount/8?namespace=static-11.1.7_61131-us'}}, 'id': 8, 'name': 'White Stallion', 'creature_displays': [{'key': {'href': 'https://us.api.blizzard.com/data/wow/media/creature-display/2410?namespace=static-11.1.7_61131-us'}, 'id': 2410}], 'description': 'The powerful and unyielding white stallion features heavily in the myths of ancient human tribes.', 'source': {'type': 'VENDOR', 'name': 'Vendor'}, 'should_exclude_if_uncollected': True}, {'_links': {'self': {'href': 'https://us.api.blizzard.com/data/wow/mount/9?namespace=static-11.1.7_61131-us'}}, 'id': 9, 'name': 'Black Stallion', 'creature_displays': [{'key': {'href': 'https://us.api.blizzard.com/data/wow/media/creature-display/2402?namespace=static-11.1.7_61131-us'}, 'id': 2402}], 'description': 'Rumored to be favored by SI:7 for night missions due to its dark coat.', 'source': {'type': 'VENDOR', 'name': 'Vendor'}, 'faction': {'type': 'ALLIANCE', 'name': 'Alliance'}, 'requirements': {'faction': {'type': 'ALLIANCE', 'name': 'Alliance'}}}, {'_links': {'self': {'href': 'https://us.api.blizzard.com/data/wow/mount/11?namespace=static-11.1.7_61131-us'}}, 'id': 11, 'name': 'Pinto', 'creature_displays': [{'key': {'href': 'https://us.api.blizzard.com/data/wow/media/creature-display/2409?namespace=static-11.1.7_61131-us'}, 'id': 2409}], 'description': 'Its calm temperament makes it ideal to train young children in horseback riding.', 'source': {'type': 'VENDOR', 'name': 'Vendor'}, 'faction': {'type': 'ALLIANCE', 'name': 'Alliance'}, 'requirements': {'faction': {'type': 'ALLIANCE', 'name': 'Alliance'}}}]\n"
     ]
    }
   ],
   "source": [
    "import time\n",
    "\n",
    "mounts = mounts_index_data[\"mounts\"]\n",
    "all_mount_details = []\n",
    "\n",
    "for i, mount_ref in enumerate(mounts):\n",
    "    if i >= 5:\n",
    "        break  # Limita a apenas 5 montarias\n",
    "\n",
    "    mount_id = mount_ref[\"id\"]\n",
    "    url = f\"https://us.api.blizzard.com/data/wow/mount/{mount_id}\"\n",
    "    params = {\"namespace\": \"static-us\", \"locale\": \"en_US\"}\n",
    "    resp = requests.get(url, params=params, headers=headers)\n",
    "    resp.raise_for_status()\n",
    "    mount_data = resp.json()\n",
    "    all_mount_details.append(mount_data)\n",
    "\n",
    "    # Pequeno delay para não sobrecarregar a API\n",
    "    time.sleep(0.1)\n",
    "    \n",
    "print(all_mount_details)  # Exibe os detalhes das montarias obtidas\n",
    "\n",
    "\n",
    "pets_index_url = \"https://us.api.blizzard.com/data/wow/pet/index\"\n",
    "response = requests.get(pets_index_url, params=params, headers=headers)\n",
    "pets_index_data = response.json()\n",
    "pets = pets_index_data[\"pets\"]  # supondo que a lista venha nesta chave\n",
    "\n",
    "all_pet_details = []\n",
    "\n",
    "\n",
    "for i, pet_ref in enumarete(pets):\n",
    "    if i >= 5:\n",
    "        break\n",
    "\n",
    "    pet_id = pet_ref[\"id\"]\n",
    "    url = f\"https://us.api.blizzard.com/data/wow/pet/{pet_id}\"\n",
    "    resp = requests.get(url, params=params, headers=headers)\n",
    "    resp.raise_for_status()\n",
    "    pet_data = resp.json()\n",
    "    all_pet_details.append(pet_data)\n",
    "\n",
    "    # Pequeno delay para não sobrecarregar a API\n",
    "    time.sleep(0.1)\n",
    "\n",
    "print(all_pet_details)  # Exibe os detalhes dos mascotes obtidos"
   ]
  },
  {
   "cell_type": "code",
   "execution_count": null,
   "id": "11dc41a3",
   "metadata": {},
   "outputs": [],
   "source": [
    "# 2. Obter índice de mascotes\n",
    "pets_index_url = \"https://us.api.blizzard.com/data/wow/pet/index\"\n",
    "response = requests.get(pets_index_url, params=params, headers=headers)\n",
    "pets_index_data = response.json()\n",
    "pets = pets_index_data[\"pets\"]  # supondo que a lista venha nesta chave\n",
    "\n",
    "all_pet_details = []\n",
    "\n",
    "\n",
    "for pet_ref in pets:\n",
    "    pet_id = pet_ref[\"id\"]\n",
    "    url = f\"https://us.api.blizzard.com/data/wow/pet/{pet_id}\"\n",
    "    resp = requests.get(url, params=params, headers=headers)\n",
    "    resp.raise_for_status()\n",
    "    pet_data = resp.json()\n",
    "    all_pet_details.append(pet_data)\n",
    "\n",
    "    # Pequeno delay para não sobrecarregar a API\n",
    "    time.sleep(0.1)"
   ]
  },
  {
   "cell_type": "code",
   "execution_count": null,
   "id": "b7c682f8",
   "metadata": {},
   "outputs": [],
   "source": [
    "# %pip install psycopg2-binary\n",
    "import psycopg2"
   ]
  },
  {
   "cell_type": "code",
   "execution_count": 18,
   "id": "631fc77e",
   "metadata": {},
   "outputs": [
    {
     "ename": "DuplicateDatabase",
     "evalue": "ERRO:  o banco de dados \"wow_data\" já existe\n",
     "output_type": "error",
     "traceback": [
      "\u001b[31m---------------------------------------------------------------------------\u001b[39m",
      "\u001b[31mDuplicateDatabase\u001b[39m                         Traceback (most recent call last)",
      "\u001b[36mCell\u001b[39m\u001b[36m \u001b[39m\u001b[32mIn[18]\u001b[39m\u001b[32m, line 9\u001b[39m\n\u001b[32m      6\u001b[39m cur = conn.cursor()\n\u001b[32m      8\u001b[39m \u001b[38;5;66;03m# Cria o banco de dados\u001b[39;00m\n\u001b[32m----> \u001b[39m\u001b[32m9\u001b[39m \u001b[43mcur\u001b[49m\u001b[43m.\u001b[49m\u001b[43mexecute\u001b[49m\u001b[43m(\u001b[49m\u001b[33;43m\"\u001b[39;49m\u001b[33;43mCREATE DATABASE wow_data;\u001b[39;49m\u001b[33;43m\"\u001b[39;49m\u001b[43m)\u001b[49m\n\u001b[32m     11\u001b[39m \u001b[38;5;66;03m# Finaliza\u001b[39;00m\n\u001b[32m     12\u001b[39m cur.close()\n",
      "\u001b[31mDuplicateDatabase\u001b[39m: ERRO:  o banco de dados \"wow_data\" já existe\n"
     ]
    }
   ],
   "source": [
    "import psycopg2\n",
    "\n",
    "# Conecta ao banco postgres e ativa autocommit\n",
    "conn = psycopg2.connect(host=\"localhost\", dbname=\"postgres\", user=\"postgres\", password=\"@Luisdz1611\")\n",
    "conn.autocommit = True  # <- necessário para CREATE DATABASE funcionar\n",
    "cur = conn.cursor()\n",
    "\n",
    "# Cria o banco de dados\n",
    "cur.execute(\"CREATE DATABASE wow_data;\")\n",
    "\n",
    "# Finaliza\n",
    "cur.close()\n",
    "conn.close()\n"
   ]
  },
  {
   "cell_type": "code",
   "execution_count": 19,
   "id": "edf5290c",
   "metadata": {},
   "outputs": [],
   "source": [
    "# Conecte no seu banco de dados Postgres\n",
    "conn = psycopg2.connect(host=\"localhost\", dbname=\"wow_data\", user=\"postgres\", password=\"@Luisdz1611\")"
   ]
  },
  {
   "cell_type": "code",
   "execution_count": 20,
   "id": "fa50089f",
   "metadata": {},
   "outputs": [],
   "source": [
    "# Crie tabelas\n",
    "cur.execute(\"\"\"\n",
    "    CREATE TABLE IF NOT EXISTS mounts (\n",
    "        id INTEGER PRIMARY KEY,\n",
    "        name TEXT,\n",
    "        source_type TEXT,\n",
    "        source_name TEXT,\n",
    "        faction TEXT\n",
    "    );\n",
    "\"\"\")\n",
    "cur.execute(\"\"\"\n",
    "    CREATE TABLE IF NOT EXISTS pets (\n",
    "        id INTEGER PRIMARY KEY,\n",
    "        name TEXT,\n",
    "        source_type TEXT,\n",
    "        source_name TEXT\n",
    "    );\n",
    "\"\"\")\n",
    "conn.commit()\n"
   ]
  }
 ],
 "metadata": {
  "kernelspec": {
   "display_name": "Python 3",
   "language": "python",
   "name": "python3"
  },
  "language_info": {
   "codemirror_mode": {
    "name": "ipython",
    "version": 3
   },
   "file_extension": ".py",
   "mimetype": "text/x-python",
   "name": "python",
   "nbconvert_exporter": "python",
   "pygments_lexer": "ipython3",
   "version": "3.13.5"
  }
 },
 "nbformat": 4,
 "nbformat_minor": 5
}
